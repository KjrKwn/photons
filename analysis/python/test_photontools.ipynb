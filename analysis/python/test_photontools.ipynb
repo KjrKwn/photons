{
 "cells": [
  {
   "cell_type": "code",
   "execution_count": 25,
   "metadata": {},
   "outputs": [],
   "source": [
    "import os\n",
    "import subprocess\n",
    "import numpy as np\n",
    "import pandas as pd\n",
    "import copy\n",
    "import matplotlib.pyplot as plt\n",
    "from time import time as t\n",
    "from numba import jit\n",
    "\n",
    "import json\n",
    "# import io\n",
    "\n",
    "# import datetime\n",
    "\n",
    "import astropy\n",
    "import astropy.units as u\n",
    "import astropy.constants as c\n",
    "import astropy.cosmology\n",
    "\n",
    "# from IPython.display import Image, display_png\n",
    "\n",
    "from astroquery.simbad import Simbad\n",
    "\n",
    "import photontools\n",
    "\n",
    "from IPython.display import display\n",
    "import matplotlib.colors as colors\n",
    "from matplotlib.ticker import (MultipleLocator, FormatStrFormatter,\n",
    "                               AutoMinorLocator)\n"
   ]
  },
  {
   "cell_type": "code",
   "execution_count": 2,
   "metadata": {},
   "outputs": [],
   "source": [
    "# %matplotlib inline\n",
    "%matplotlib notebook\n",
    "\n",
    "plt.rcParams[\"font.family\"] = \"Times New Roman\"\n",
    "plt.rcParams[\"mathtext.fontset\"] = \"stix\"\n",
    "plt.rcParams[\"font.size\"] = 15\n",
    "plt.rcParams[\"figure.dpi\"] = 150\n",
    "\n",
    "lss = ['-', '--', '-.', ':']"
   ]
  },
  {
   "cell_type": "code",
   "execution_count": 3,
   "metadata": {},
   "outputs": [],
   "source": [
    "filepath_hewd = \"../../hewd_hr/gamtmp.d\"\n",
    "filepath_cowd = \"../../cowd100x50x50/gamtmp.d\"\n",
    "\n",
    "directory_ML = \"/Users/kawana/GoogleDrive/sync/study/yoshidalab/mypaper/0002_WD_TDE_radiation_transfer/WhiteDwarf_Thermonuclear_Transients/\"\n",
    "filepaths_spectra_ML = subprocess.getoutput('find \"{}/WD06_spectra/\" | grep \".par\" | sort'.format(directory_ML)).split(\"\\n\")[1:]\n",
    "\n",
    "vel_cowd = np.array([2.56466437e+03, 1.18143578e+04, -1.41779372e+00]) * 1e5\n",
    "vel_hewd = np.array([4.49999438e+03, 1.54867843e+04, 1.27477734e+01]) * 1e5\n",
    "# f_ = open(filepath_, mode=\"r\") "
   ]
  },
  {
   "cell_type": "code",
   "execution_count": 13,
   "metadata": {},
   "outputs": [
    {
     "name": "stdout",
     "output_type": "stream",
     "text": [
      "CPU times: user 5.85 s, sys: 10.9 s, total: 16.7 s\n",
      "Wall time: 17.8 s\n"
     ]
    }
   ],
   "source": [
    "%time spectra_hewd = photontools.read_Maeda_data(filepath_hewd)\n"
   ]
  },
  {
   "cell_type": "code",
   "execution_count": 14,
   "metadata": {
    "scrolled": true
   },
   "outputs": [
    {
     "name": "stdout",
     "output_type": "stream",
     "text": [
      "CPU times: user 4.13 s, sys: 2.79 s, total: 6.92 s\n",
      "Wall time: 7.34 s\n",
      "This Doppler shift only changes spectra.data!\n",
      "Shift spectra.time later by yourself!\n",
      "CPU times: user 1.01 s, sys: 83.1 ms, total: 1.09 s\n",
      "Wall time: 1.1 s\n"
     ]
    }
   ],
   "source": [
    "%time spectra_hewd = spectra_hewd.binning(N_theta_bins=10, N_phi_bins=10)\n",
    "%time spectra_hewd = spectra_hewd.Doppler_shift_by_intrinsic_velocity(vel_hewd)\n"
   ]
  },
  {
   "cell_type": "code",
   "execution_count": 15,
   "metadata": {},
   "outputs": [],
   "source": [
    "filter_decam = photontools.read_one_instrument_filters(\"./photontools/filter_data/decam/\")"
   ]
  },
  {
   "cell_type": "code",
   "execution_count": 16,
   "metadata": {},
   "outputs": [],
   "source": [
    "lc_he = photontools.calc_band_flux(spectra_hewd, filter_decam)"
   ]
  },
  {
   "cell_type": "code",
   "execution_count": 17,
   "metadata": {},
   "outputs": [],
   "source": [
    "lc_he_bol = spectra_hewd.calc_bolometric_luminosity()"
   ]
  }
 ],
 "metadata": {
  "kernelspec": {
   "display_name": "Environment (conda_py3)",
   "language": "python",
   "name": "conda_py3"
  },
  "language_info": {
   "codemirror_mode": {
    "name": "ipython",
    "version": 3
   },
   "file_extension": ".py",
   "mimetype": "text/x-python",
   "name": "python",
   "nbconvert_exporter": "python",
   "pygments_lexer": "ipython3",
   "version": "3.7.2"
  }
 },
 "nbformat": 4,
 "nbformat_minor": 2
}
