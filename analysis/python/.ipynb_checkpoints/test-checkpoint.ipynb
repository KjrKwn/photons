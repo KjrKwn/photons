{
 "cells": [
  {
   "cell_type": "code",
   "execution_count": 1,
   "metadata": {},
   "outputs": [],
   "source": [
    "# from mpi4py import MPI\n",
    "\n",
    "import os\n",
    "import subprocess\n",
    "import numpy as np\n",
    "import pandas as pd\n",
    "import matplotlib.pyplot as plt\n",
    "from time import time as t\n",
    "# import io\n",
    "\n",
    "# import datetime\n",
    "\n",
    "import astropy.units as u\n",
    "import astropy.constants as c\n",
    "\n",
    "# from IPython.display import Image, display_png\n"
   ]
  },
  {
   "cell_type": "code",
   "execution_count": 2,
   "metadata": {},
   "outputs": [],
   "source": [
    "%matplotlib inline\n",
    "# %matplotlib notebook\n",
    "\n",
    "plt.rcParams[\"font.family\"] = \"Times New Roman\"\n",
    "plt.rcParams[\"mathtext.fontset\"] = \"stix\"\n",
    "plt.rcParams[\"font.size\"] = 15\n"
   ]
  },
  {
   "cell_type": "code",
   "execution_count": 3,
   "metadata": {},
   "outputs": [],
   "source": [
    "filepath_ = \"../../hewd/gamtmp.d\"\n",
    "# f_ = open(filepath_, mode=\"r\") "
   ]
  },
  {
   "cell_type": "code",
   "execution_count": 4,
   "metadata": {},
   "outputs": [
    {
     "data": {
      "text/plain": [
       "'../../hewd/'"
      ]
     },
     "execution_count": 4,
     "metadata": {},
     "output_type": "execute_result"
    }
   ],
   "source": [
    "filepath_[:-len(filepath_.split(\"/\")[-1])]"
   ]
  },
  {
   "cell_type": "code",
   "execution_count": 15,
   "metadata": {},
   "outputs": [],
   "source": [
    "def read_gamtmp_save_npy(filepath, force=False):\n",
    "    \"\"\"\n",
    "    read gamtmp.d, save the data to npy files, and return the data as numpy.ndarray\n",
    "    \n",
    "    arguments\n",
    "    =========\n",
    "    filepath: string        : filepath of gamtmp.d\n",
    "    force   : bool(optional): default=False, force to read gamtmp.d even if npy files already exist\n",
    "    \n",
    "    return\n",
    "    ======\n",
    "    nobj      : int                 : number of wavelength bin\n",
    "    wava      : float, numpy ndarray: (mean) wavelength array\n",
    "    head_table: float, numpy ndarray: header tables: time, theta, phi\n",
    "    data_table: float, numpy ndarray: data tables (nobj)\n",
    "    \"\"\"\n",
    "    \n",
    "    directory = filepath[:-len(filepath.split(\"/\")[-1])]\n",
    "    with open(filepath) as f:\n",
    "        lines = f.readlines()\n",
    "    nobj = np.int(lines[0]) - 1\n",
    "    wava = np.array(lines[1].split(\"  \")[1:], dtype=np.float)\n",
    "    \n",
    "    if(os.path.exists(directory+\"header.npy\") and not force):\n",
    "        head_table = np.load(directory+\"header.npy\")\n",
    "    else:\n",
    "        head_ = lines[2::2]\n",
    "        with open(directory+\"header.txt\", mode=\"w\") as f:\n",
    "            f.writelines(head_)\n",
    "        head_table = np.loadtxt(directory+\"header.txt\", dtype=np.float)\n",
    "        np.save(directory+\"header.npy\", head_table)\n",
    "        os.remove(directory+\"header.txt\")\n",
    "    \n",
    "    if(os.path.exists(directory+\"data.npy\") and not force):\n",
    "        data_table = np.load(directory+\"data.npy\")\n",
    "    else:\n",
    "        data_ = lines[3::2]\n",
    "        with open(directory+\"data.txt\", mode=\"w\") as f:\n",
    "            f.writelines(data_)\n",
    "        data_table = pd.read_csv(directory+\"data.txt\", delim_whitespace=True, header=None, dtype=np.float)\n",
    "        np.save(directory+\"data.npy\", data_table)\n",
    "        os.remove(directory+\"data.txt\")\n",
    "\n",
    "    return nobj, wava, head_table, data_table\n",
    "\n",
    "def extract_array_from_header(head_table: np.ndarray):\n",
    "    time_arr  = np.unique(head_table[:, 0])\n",
    "    theta_arr = np.sort(np.unique(head_table[:, 1]))\n",
    "    phi_arr   = np.sort(np.unique(head_table[:, 2]))\n",
    "    return time_arr, theta_arr, phi_arr\n",
    "\n",
    "# def read_npy(directory):"
   ]
  },
  {
   "cell_type": "code",
   "execution_count": 16,
   "metadata": {},
   "outputs": [
    {
     "name": "stdout",
     "output_type": "stream",
     "text": [
      "CPU times: user 5.58 s, sys: 10.3 s, total: 15.8 s\n",
      "Wall time: 18.1 s\n"
     ]
    }
   ],
   "source": [
    "%time __, wava, head_table, data_table = read_gamtmp_save_npy(filepath_)\n",
    "time_arr, theta_arr, phi_arr = extract_header(head_table)"
   ]
  },
  {
   "cell_type": "code",
   "execution_count": null,
   "metadata": {},
   "outputs": [],
   "source": [
    "def set_parameters():\n",
    "      parameter(fvega_ju=4.2631d-9) #erg/s/cm2/A\n",
    "      parameter(fvega_jb=6.1855d-9)\n",
    "      parameter(fvega_jv=3.6021d-9)\n",
    "      parameter(fvega_jr=2.1422d-9)\n",
    "      parameter(fvega_ji=1.1117d-9)\n",
    "      parameter(fvega_jj=3.0949d-10)\n",
    "      parameter(fvega_jh=1.1534d-10)\n",
    "      parameter(fvega_jk=4.4936d-11)\n",
    "      parameter(fvega_fu=3.91476193d-9)\n",
    "      parameter(fvega_fb=6.18069247d-9)\n",
    "      parameter(fvega_fv=3.64177726d-9)\n",
    "      parameter(fvega_fr=2.09980855d-9)\n",
    "      parameter(fvega_fi=1.12042287d-9)"
   ]
  },
  {
   "cell_type": "code",
   "execution_count": null,
   "metadata": {},
   "outputs": [],
   "source": []
  }
 ],
 "metadata": {
  "kernelspec": {
   "display_name": "Environment (conda_anaconda3)",
   "language": "python",
   "name": "conda_anaconda3"
  },
  "language_info": {
   "codemirror_mode": {
    "name": "ipython",
    "version": 3
   },
   "file_extension": ".py",
   "mimetype": "text/x-python",
   "name": "python",
   "nbconvert_exporter": "python",
   "pygments_lexer": "ipython3",
   "version": "3.7.1"
  }
 },
 "nbformat": 4,
 "nbformat_minor": 2
}
